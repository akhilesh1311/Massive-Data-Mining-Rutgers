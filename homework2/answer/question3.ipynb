{
 "cells": [
  {
   "cell_type": "code",
   "execution_count": 8,
   "metadata": {},
   "outputs": [],
   "source": [
    "import numpy as np"
   ]
  },
  {
   "cell_type": "code",
   "execution_count": 9,
   "metadata": {},
   "outputs": [],
   "source": [
    "graph_dict = {}\n",
    "with open(r\"../data/graph.txt\", \"rb\") as f:\n",
    "  contents = f.readlines()\n",
    "for line in contents:\n",
    "  line = line.split()\n",
    "  source = int(line[0])-1\n",
    "  dest = int(line[1])-1\n",
    "  if source not in graph_dict:\n",
    "    graph_dict[source] = [dest]\n",
    "  else:\n",
    "    graph_dict[source].append(dest)"
   ]
  },
  {
   "cell_type": "code",
   "execution_count": 10,
   "metadata": {},
   "outputs": [],
   "source": [
    "n = len(graph_dict.keys())\n",
    "graph_matrix = np.zeros(dtype=np.float32, shape=(n, n))\n",
    "for source in graph_dict.keys():\n",
    "  degree = len(graph_dict[source])\n",
    "  for dest in graph_dict[source]:\n",
    "    graph_matrix[dest, source] = graph_matrix[dest, source] + 1/degree"
   ]
  },
  {
   "cell_type": "code",
   "execution_count": 11,
   "metadata": {},
   "outputs": [],
   "source": [
    "iterations = 40\n",
    "beta = 0.8\n",
    "r = np.ones(dtype=np.float32, shape=n)\n",
    "r = (1/n)*r\n",
    "for i in range(iterations):\n",
    "  r = (1-beta)/n + beta*np.matmul(graph_matrix, r)\n",
    "rank = [(i+1, r[i]) for i in range(r.shape[0])]"
   ]
  },
  {
   "cell_type": "code",
   "execution_count": 12,
   "metadata": {},
   "outputs": [
    {
     "data": {
      "text/plain": [
       "[(53, 0.037868623),\n",
       " (14, 0.035866782),\n",
       " (1, 0.035141394),\n",
       " (40, 0.03383065),\n",
       " (27, 0.033130199)]"
      ]
     },
     "execution_count": 12,
     "metadata": {},
     "output_type": "execute_result"
    }
   ],
   "source": [
    "top_5 = sorted(rank, key = lambda x: x[1], reverse=True)[:5]\n",
    "top_5"
   ]
  },
  {
   "cell_type": "code",
   "execution_count": 13,
   "metadata": {},
   "outputs": [
    {
     "data": {
      "text/plain": [
       "[(85, 0.0032348195),\n",
       " (59, 0.0034442565),\n",
       " (81, 0.0035804329),\n",
       " (37, 0.0037142844),\n",
       " (89, 0.0038398579)]"
      ]
     },
     "execution_count": 13,
     "metadata": {},
     "output_type": "execute_result"
    }
   ],
   "source": [
    "bottom_5 = sorted(rank, key = lambda x:x[1])[:5]\n",
    "bottom_5"
   ]
  }
 ],
 "metadata": {
  "kernelspec": {
   "display_name": "Python 3",
   "language": "python",
   "name": "python3"
  },
  "language_info": {
   "codemirror_mode": {
    "name": "ipython",
    "version": 3
   },
   "file_extension": ".py",
   "mimetype": "text/x-python",
   "name": "python",
   "nbconvert_exporter": "python",
   "pygments_lexer": "ipython3",
   "version": "3.6.4"
  }
 },
 "nbformat": 4,
 "nbformat_minor": 2
}
